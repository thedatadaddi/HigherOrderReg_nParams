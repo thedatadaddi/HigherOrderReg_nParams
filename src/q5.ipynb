{
 "cells": [
  {
   "cell_type": "markdown",
   "metadata": {},
   "source": [
    "# Exam 1 Review - Higher Order Regression with n_Parameters"
   ]
  },
  {
   "cell_type": "markdown",
   "metadata": {},
   "source": [
    "## GitHub Repo: https://github.com/sking115422/DS2_E1_Rev.git"
   ]
  },
  {
   "cell_type": "markdown",
   "metadata": {},
   "source": [
    "## Ordinal"
   ]
  },
  {
   "cell_type": "markdown",
   "metadata": {},
   "source": [
    "Oridinal Data - data that is classified in to categories that have a natural order or rank\n",
    "\n",
    "Examples:\n",
    "* Socio Economic Status: low income < middle income < high income\n",
    "* Satisfaction Ratings: strong dislike < dislike < neutral < like < strong like"
   ]
  },
  {
   "cell_type": "code",
   "execution_count": 95,
   "metadata": {},
   "outputs": [],
   "source": [
    "import pandas as pd"
   ]
  },
  {
   "cell_type": "code",
   "execution_count": 96,
   "metadata": {},
   "outputs": [
    {
     "name": "stdout",
     "output_type": "stream",
     "text": [
      "    Score\n",
      "0     Low\n",
      "1     Low\n",
      "2  Medium\n",
      "3  Medium\n",
      "4    High\n",
      "5     Low\n",
      "6  Medium\n",
      "7    High\n",
      "8     Low\n"
     ]
    }
   ],
   "source": [
    "ord = pd.DataFrame({\"Score\": [\"Low\", \"Low\", \"Medium\", \"Medium\", \"High\", \"Low\", \"Medium\",\"High\", \"Low\"]})\n",
    "print(ord)"
   ]
  },
  {
   "cell_type": "code",
   "execution_count": 97,
   "metadata": {},
   "outputs": [],
   "source": [
    "scale_mapper = {\"Low\":1, \"Medium\":2, \"High\":3}\n",
    "ord[\"Scale\"] = ord[\"Score\"].replace(scale_mapper)"
   ]
  },
  {
   "cell_type": "code",
   "execution_count": 98,
   "metadata": {},
   "outputs": [
    {
     "data": {
      "text/html": [
       "<div>\n",
       "<style scoped>\n",
       "    .dataframe tbody tr th:only-of-type {\n",
       "        vertical-align: middle;\n",
       "    }\n",
       "\n",
       "    .dataframe tbody tr th {\n",
       "        vertical-align: top;\n",
       "    }\n",
       "\n",
       "    .dataframe thead th {\n",
       "        text-align: right;\n",
       "    }\n",
       "</style>\n",
       "<table border=\"1\" class=\"dataframe\">\n",
       "  <thead>\n",
       "    <tr style=\"text-align: right;\">\n",
       "      <th></th>\n",
       "      <th>Score</th>\n",
       "      <th>Scale</th>\n",
       "    </tr>\n",
       "  </thead>\n",
       "  <tbody>\n",
       "    <tr>\n",
       "      <th>0</th>\n",
       "      <td>Low</td>\n",
       "      <td>1</td>\n",
       "    </tr>\n",
       "    <tr>\n",
       "      <th>1</th>\n",
       "      <td>Low</td>\n",
       "      <td>1</td>\n",
       "    </tr>\n",
       "    <tr>\n",
       "      <th>5</th>\n",
       "      <td>Low</td>\n",
       "      <td>1</td>\n",
       "    </tr>\n",
       "    <tr>\n",
       "      <th>8</th>\n",
       "      <td>Low</td>\n",
       "      <td>1</td>\n",
       "    </tr>\n",
       "    <tr>\n",
       "      <th>2</th>\n",
       "      <td>Medium</td>\n",
       "      <td>2</td>\n",
       "    </tr>\n",
       "    <tr>\n",
       "      <th>3</th>\n",
       "      <td>Medium</td>\n",
       "      <td>2</td>\n",
       "    </tr>\n",
       "    <tr>\n",
       "      <th>6</th>\n",
       "      <td>Medium</td>\n",
       "      <td>2</td>\n",
       "    </tr>\n",
       "    <tr>\n",
       "      <th>4</th>\n",
       "      <td>High</td>\n",
       "      <td>3</td>\n",
       "    </tr>\n",
       "    <tr>\n",
       "      <th>7</th>\n",
       "      <td>High</td>\n",
       "      <td>3</td>\n",
       "    </tr>\n",
       "  </tbody>\n",
       "</table>\n",
       "</div>"
      ],
      "text/plain": [
       "    Score  Scale\n",
       "0     Low      1\n",
       "1     Low      1\n",
       "5     Low      1\n",
       "8     Low      1\n",
       "2  Medium      2\n",
       "3  Medium      2\n",
       "6  Medium      2\n",
       "4    High      3\n",
       "7    High      3"
      ]
     },
     "execution_count": 98,
     "metadata": {},
     "output_type": "execute_result"
    }
   ],
   "source": [
    "ord.sort_values('Scale')"
   ]
  },
  {
   "cell_type": "markdown",
   "metadata": {},
   "source": [
    "## Categorical "
   ]
  },
  {
   "cell_type": "markdown",
   "metadata": {},
   "source": [
    "Categorical Data - A categorical variable (sometimes called a nominal variable) is one that has two or more categories\n",
    "\n",
    "Examples:\n",
    "* State: Georgia, Florida, Alabama, etc. \n",
    "* Binary Classification: Yes or No\n",
    "* Eye Color: Brown, Green, Blue, etc. "
   ]
  },
  {
   "cell_type": "markdown",
   "metadata": {},
   "source": [
    "2 ways to handle this data: \n",
    "\n",
    "1. Dummy variables\n",
    "1. One hot encoding \n",
    "\n"
   ]
  },
  {
   "cell_type": "markdown",
   "metadata": {},
   "source": [
    "### Example with Dummy Variables:"
   ]
  },
  {
   "cell_type": "code",
   "execution_count": 99,
   "metadata": {},
   "outputs": [
    {
     "name": "stdout",
     "output_type": "stream",
     "text": [
      "  eye_color\n",
      "0     green\n",
      "1      blue\n",
      "2      blue\n",
      "3     brown\n",
      "4     brown\n",
      "5     green\n",
      "6     green\n",
      "7     brown\n",
      "8     brown\n"
     ]
    }
   ],
   "source": [
    "# For Example, imagine we have the following data set:\n",
    "\n",
    "eye_color = pd.DataFrame({\"eye_color\": [\"green\", \"blue\", \"blue\", \"brown\", \"brown\", \"green\", \"green\",\"brown\", \"brown\"]})\n",
    "print(eye_color)"
   ]
  },
  {
   "cell_type": "code",
   "execution_count": 100,
   "metadata": {},
   "outputs": [
    {
     "data": {
      "text/html": [
       "<div>\n",
       "<style scoped>\n",
       "    .dataframe tbody tr th:only-of-type {\n",
       "        vertical-align: middle;\n",
       "    }\n",
       "\n",
       "    .dataframe tbody tr th {\n",
       "        vertical-align: top;\n",
       "    }\n",
       "\n",
       "    .dataframe thead th {\n",
       "        text-align: right;\n",
       "    }\n",
       "</style>\n",
       "<table border=\"1\" class=\"dataframe\">\n",
       "  <thead>\n",
       "    <tr style=\"text-align: right;\">\n",
       "      <th></th>\n",
       "      <th>_blue</th>\n",
       "      <th>_brown</th>\n",
       "      <th>_green</th>\n",
       "    </tr>\n",
       "  </thead>\n",
       "  <tbody>\n",
       "    <tr>\n",
       "      <th>0</th>\n",
       "      <td>0</td>\n",
       "      <td>0</td>\n",
       "      <td>1</td>\n",
       "    </tr>\n",
       "    <tr>\n",
       "      <th>1</th>\n",
       "      <td>1</td>\n",
       "      <td>0</td>\n",
       "      <td>0</td>\n",
       "    </tr>\n",
       "    <tr>\n",
       "      <th>2</th>\n",
       "      <td>1</td>\n",
       "      <td>0</td>\n",
       "      <td>0</td>\n",
       "    </tr>\n",
       "    <tr>\n",
       "      <th>3</th>\n",
       "      <td>0</td>\n",
       "      <td>1</td>\n",
       "      <td>0</td>\n",
       "    </tr>\n",
       "    <tr>\n",
       "      <th>4</th>\n",
       "      <td>0</td>\n",
       "      <td>1</td>\n",
       "      <td>0</td>\n",
       "    </tr>\n",
       "    <tr>\n",
       "      <th>5</th>\n",
       "      <td>0</td>\n",
       "      <td>0</td>\n",
       "      <td>1</td>\n",
       "    </tr>\n",
       "    <tr>\n",
       "      <th>6</th>\n",
       "      <td>0</td>\n",
       "      <td>0</td>\n",
       "      <td>1</td>\n",
       "    </tr>\n",
       "    <tr>\n",
       "      <th>7</th>\n",
       "      <td>0</td>\n",
       "      <td>1</td>\n",
       "      <td>0</td>\n",
       "    </tr>\n",
       "    <tr>\n",
       "      <th>8</th>\n",
       "      <td>0</td>\n",
       "      <td>1</td>\n",
       "      <td>0</td>\n",
       "    </tr>\n",
       "  </tbody>\n",
       "</table>\n",
       "</div>"
      ],
      "text/plain": [
       "   _blue  _brown  _green\n",
       "0      0       0       1\n",
       "1      1       0       0\n",
       "2      1       0       0\n",
       "3      0       1       0\n",
       "4      0       1       0\n",
       "5      0       0       1\n",
       "6      0       0       1\n",
       "7      0       1       0\n",
       "8      0       1       0"
      ]
     },
     "execution_count": 100,
     "metadata": {},
     "output_type": "execute_result"
    }
   ],
   "source": [
    "dummies = pd.get_dummies(eye_color.eye_color, prefix='')\n",
    "dummies"
   ]
  },
  {
   "cell_type": "markdown",
   "metadata": {},
   "source": [
    "### Example with One Hot Encoding"
   ]
  },
  {
   "cell_type": "code",
   "execution_count": 101,
   "metadata": {},
   "outputs": [],
   "source": [
    "states = pd.DataFrame({\"states\": [\"Georgia\", \"Alabama\", \"Florida\", \"Tennessee\"]})"
   ]
  },
  {
   "cell_type": "code",
   "execution_count": 102,
   "metadata": {},
   "outputs": [
    {
     "data": {
      "text/plain": [
       "array([[0., 0., 1., 0.],\n",
       "       [1., 0., 0., 0.],\n",
       "       [0., 1., 0., 0.],\n",
       "       [0., 0., 0., 1.]])"
      ]
     },
     "execution_count": 102,
     "metadata": {},
     "output_type": "execute_result"
    }
   ],
   "source": [
    "from sklearn.preprocessing import OneHotEncoder\n",
    "one_hot = OneHotEncoder().fit_transform(states).toarray()\n",
    "one_hot"
   ]
  },
  {
   "cell_type": "markdown",
   "metadata": {},
   "source": [
    "## Quadratic Regression"
   ]
  },
  {
   "cell_type": "markdown",
   "metadata": {},
   "source": [
    "Extension of simple linear regression by adding in X^2 terms\n",
    "\n",
    "Allows us to fit non-linear relationships in data shaped like a parabola\n",
    "\n",
    "![](quad.png)\n",
    "\n",
    "With only on predictor variable the quadratic function would look like the following:\n",
    "\n",
    "![](quad_eqn1.png)\n",
    "\n",
    "However, if we expanded it out to 2 dimensions it would take the follow form:\n",
    "\n",
    "![](quad_eqn2.png)\n",
    "\n",
    "Another, option open to use is using cross terms. This allows us to capture relationships between the data. \n",
    "\n",
    "![](quad_eqn3.png)\n"
   ]
  },
  {
   "cell_type": "markdown",
   "metadata": {},
   "source": [
    "### Example"
   ]
  },
  {
   "cell_type": "code",
   "execution_count": 103,
   "metadata": {},
   "outputs": [],
   "source": [
    "# Auto MPG data set for reference since we are all familiar with it!\n",
    "\n",
    "autompg = pd.read_csv(\"./auto_mpg_fixed_cleaned.csv\", index_col=0)"
   ]
  },
  {
   "cell_type": "code",
   "execution_count": 104,
   "metadata": {},
   "outputs": [
    {
     "data": {
      "text/html": [
       "<div>\n",
       "<style scoped>\n",
       "    .dataframe tbody tr th:only-of-type {\n",
       "        vertical-align: middle;\n",
       "    }\n",
       "\n",
       "    .dataframe tbody tr th {\n",
       "        vertical-align: top;\n",
       "    }\n",
       "\n",
       "    .dataframe thead th {\n",
       "        text-align: right;\n",
       "    }\n",
       "</style>\n",
       "<table border=\"1\" class=\"dataframe\">\n",
       "  <thead>\n",
       "    <tr style=\"text-align: right;\">\n",
       "      <th></th>\n",
       "      <th>cylinders</th>\n",
       "      <th>displacement</th>\n",
       "      <th>horsepower</th>\n",
       "      <th>weight</th>\n",
       "      <th>acceleration</th>\n",
       "      <th>model_year</th>\n",
       "      <th>origin</th>\n",
       "      <th>mpg</th>\n",
       "    </tr>\n",
       "  </thead>\n",
       "  <tbody>\n",
       "    <tr>\n",
       "      <th>0</th>\n",
       "      <td>8</td>\n",
       "      <td>307.0</td>\n",
       "      <td>130</td>\n",
       "      <td>3504</td>\n",
       "      <td>12.0</td>\n",
       "      <td>70</td>\n",
       "      <td>1</td>\n",
       "      <td>18.0</td>\n",
       "    </tr>\n",
       "    <tr>\n",
       "      <th>1</th>\n",
       "      <td>8</td>\n",
       "      <td>350.0</td>\n",
       "      <td>165</td>\n",
       "      <td>3693</td>\n",
       "      <td>11.5</td>\n",
       "      <td>70</td>\n",
       "      <td>1</td>\n",
       "      <td>15.0</td>\n",
       "    </tr>\n",
       "    <tr>\n",
       "      <th>2</th>\n",
       "      <td>8</td>\n",
       "      <td>318.0</td>\n",
       "      <td>150</td>\n",
       "      <td>3436</td>\n",
       "      <td>11.0</td>\n",
       "      <td>70</td>\n",
       "      <td>1</td>\n",
       "      <td>18.0</td>\n",
       "    </tr>\n",
       "  </tbody>\n",
       "</table>\n",
       "</div>"
      ],
      "text/plain": [
       "   cylinders  displacement  horsepower  weight  acceleration  model_year  \\\n",
       "0          8         307.0         130    3504          12.0          70   \n",
       "1          8         350.0         165    3693          11.5          70   \n",
       "2          8         318.0         150    3436          11.0          70   \n",
       "\n",
       "   origin   mpg  \n",
       "0       1  18.0  \n",
       "1       1  15.0  \n",
       "2       1  18.0  "
      ]
     },
     "execution_count": 104,
     "metadata": {},
     "output_type": "execute_result"
    }
   ],
   "source": [
    "autompg.head(3)"
   ]
  },
  {
   "cell_type": "code",
   "execution_count": 105,
   "metadata": {},
   "outputs": [],
   "source": [
    "# Creating our input feature set and target variable\n",
    "\n",
    "X_mpg = autompg[['cylinders', 'model_year', 'weight']]\n",
    "y_mpg = autompg['mpg']"
   ]
  },
  {
   "cell_type": "code",
   "execution_count": 106,
   "metadata": {},
   "outputs": [],
   "source": [
    "from sklearn.model_selection import train_test_split"
   ]
  },
  {
   "cell_type": "code",
   "execution_count": 107,
   "metadata": {},
   "outputs": [],
   "source": [
    "from sklearn.preprocessing import PolynomialFeatures\n",
    "from sklearn import linear_model"
   ]
  },
  {
   "cell_type": "code",
   "execution_count": 108,
   "metadata": {},
   "outputs": [
    {
     "name": "stderr",
     "output_type": "stream",
     "text": [
      "/Users/sdk/miniforge3/lib/python3.9/site-packages/sklearn/utils/deprecation.py:87: FutureWarning: Function get_feature_names is deprecated; get_feature_names is deprecated in 1.0 and will be removed in 1.2. Please use get_feature_names_out instead.\n",
      "  warnings.warn(msg, category=FutureWarning)\n"
     ]
    },
    {
     "data": {
      "text/html": [
       "<div>\n",
       "<style scoped>\n",
       "    .dataframe tbody tr th:only-of-type {\n",
       "        vertical-align: middle;\n",
       "    }\n",
       "\n",
       "    .dataframe tbody tr th {\n",
       "        vertical-align: top;\n",
       "    }\n",
       "\n",
       "    .dataframe thead th {\n",
       "        text-align: right;\n",
       "    }\n",
       "</style>\n",
       "<table border=\"1\" class=\"dataframe\">\n",
       "  <thead>\n",
       "    <tr style=\"text-align: right;\">\n",
       "      <th></th>\n",
       "      <th>x0</th>\n",
       "      <th>x1</th>\n",
       "      <th>x2</th>\n",
       "      <th>x0^2</th>\n",
       "      <th>x0 x1</th>\n",
       "      <th>x0 x2</th>\n",
       "      <th>x1^2</th>\n",
       "      <th>x1 x2</th>\n",
       "      <th>x2^2</th>\n",
       "    </tr>\n",
       "  </thead>\n",
       "  <tbody>\n",
       "    <tr>\n",
       "      <th>0</th>\n",
       "      <td>8.0</td>\n",
       "      <td>70.0</td>\n",
       "      <td>3504.0</td>\n",
       "      <td>64.0</td>\n",
       "      <td>560.0</td>\n",
       "      <td>28032.0</td>\n",
       "      <td>4900.0</td>\n",
       "      <td>245280.0</td>\n",
       "      <td>12278016.0</td>\n",
       "    </tr>\n",
       "    <tr>\n",
       "      <th>1</th>\n",
       "      <td>8.0</td>\n",
       "      <td>70.0</td>\n",
       "      <td>3693.0</td>\n",
       "      <td>64.0</td>\n",
       "      <td>560.0</td>\n",
       "      <td>29544.0</td>\n",
       "      <td>4900.0</td>\n",
       "      <td>258510.0</td>\n",
       "      <td>13638249.0</td>\n",
       "    </tr>\n",
       "    <tr>\n",
       "      <th>2</th>\n",
       "      <td>8.0</td>\n",
       "      <td>70.0</td>\n",
       "      <td>3436.0</td>\n",
       "      <td>64.0</td>\n",
       "      <td>560.0</td>\n",
       "      <td>27488.0</td>\n",
       "      <td>4900.0</td>\n",
       "      <td>240520.0</td>\n",
       "      <td>11806096.0</td>\n",
       "    </tr>\n",
       "    <tr>\n",
       "      <th>3</th>\n",
       "      <td>8.0</td>\n",
       "      <td>70.0</td>\n",
       "      <td>3433.0</td>\n",
       "      <td>64.0</td>\n",
       "      <td>560.0</td>\n",
       "      <td>27464.0</td>\n",
       "      <td>4900.0</td>\n",
       "      <td>240310.0</td>\n",
       "      <td>11785489.0</td>\n",
       "    </tr>\n",
       "    <tr>\n",
       "      <th>4</th>\n",
       "      <td>8.0</td>\n",
       "      <td>70.0</td>\n",
       "      <td>3449.0</td>\n",
       "      <td>64.0</td>\n",
       "      <td>560.0</td>\n",
       "      <td>27592.0</td>\n",
       "      <td>4900.0</td>\n",
       "      <td>241430.0</td>\n",
       "      <td>11895601.0</td>\n",
       "    </tr>\n",
       "    <tr>\n",
       "      <th>...</th>\n",
       "      <td>...</td>\n",
       "      <td>...</td>\n",
       "      <td>...</td>\n",
       "      <td>...</td>\n",
       "      <td>...</td>\n",
       "      <td>...</td>\n",
       "      <td>...</td>\n",
       "      <td>...</td>\n",
       "      <td>...</td>\n",
       "    </tr>\n",
       "    <tr>\n",
       "      <th>387</th>\n",
       "      <td>4.0</td>\n",
       "      <td>82.0</td>\n",
       "      <td>2790.0</td>\n",
       "      <td>16.0</td>\n",
       "      <td>328.0</td>\n",
       "      <td>11160.0</td>\n",
       "      <td>6724.0</td>\n",
       "      <td>228780.0</td>\n",
       "      <td>7784100.0</td>\n",
       "    </tr>\n",
       "    <tr>\n",
       "      <th>388</th>\n",
       "      <td>4.0</td>\n",
       "      <td>82.0</td>\n",
       "      <td>2130.0</td>\n",
       "      <td>16.0</td>\n",
       "      <td>328.0</td>\n",
       "      <td>8520.0</td>\n",
       "      <td>6724.0</td>\n",
       "      <td>174660.0</td>\n",
       "      <td>4536900.0</td>\n",
       "    </tr>\n",
       "    <tr>\n",
       "      <th>389</th>\n",
       "      <td>4.0</td>\n",
       "      <td>82.0</td>\n",
       "      <td>2295.0</td>\n",
       "      <td>16.0</td>\n",
       "      <td>328.0</td>\n",
       "      <td>9180.0</td>\n",
       "      <td>6724.0</td>\n",
       "      <td>188190.0</td>\n",
       "      <td>5267025.0</td>\n",
       "    </tr>\n",
       "    <tr>\n",
       "      <th>390</th>\n",
       "      <td>4.0</td>\n",
       "      <td>82.0</td>\n",
       "      <td>2625.0</td>\n",
       "      <td>16.0</td>\n",
       "      <td>328.0</td>\n",
       "      <td>10500.0</td>\n",
       "      <td>6724.0</td>\n",
       "      <td>215250.0</td>\n",
       "      <td>6890625.0</td>\n",
       "    </tr>\n",
       "    <tr>\n",
       "      <th>391</th>\n",
       "      <td>4.0</td>\n",
       "      <td>82.0</td>\n",
       "      <td>2720.0</td>\n",
       "      <td>16.0</td>\n",
       "      <td>328.0</td>\n",
       "      <td>10880.0</td>\n",
       "      <td>6724.0</td>\n",
       "      <td>223040.0</td>\n",
       "      <td>7398400.0</td>\n",
       "    </tr>\n",
       "  </tbody>\n",
       "</table>\n",
       "<p>392 rows × 9 columns</p>\n",
       "</div>"
      ],
      "text/plain": [
       "      x0    x1      x2  x0^2  x0 x1    x0 x2    x1^2     x1 x2        x2^2\n",
       "0    8.0  70.0  3504.0  64.0  560.0  28032.0  4900.0  245280.0  12278016.0\n",
       "1    8.0  70.0  3693.0  64.0  560.0  29544.0  4900.0  258510.0  13638249.0\n",
       "2    8.0  70.0  3436.0  64.0  560.0  27488.0  4900.0  240520.0  11806096.0\n",
       "3    8.0  70.0  3433.0  64.0  560.0  27464.0  4900.0  240310.0  11785489.0\n",
       "4    8.0  70.0  3449.0  64.0  560.0  27592.0  4900.0  241430.0  11895601.0\n",
       "..   ...   ...     ...   ...    ...      ...     ...       ...         ...\n",
       "387  4.0  82.0  2790.0  16.0  328.0  11160.0  6724.0  228780.0   7784100.0\n",
       "388  4.0  82.0  2130.0  16.0  328.0   8520.0  6724.0  174660.0   4536900.0\n",
       "389  4.0  82.0  2295.0  16.0  328.0   9180.0  6724.0  188190.0   5267025.0\n",
       "390  4.0  82.0  2625.0  16.0  328.0  10500.0  6724.0  215250.0   6890625.0\n",
       "391  4.0  82.0  2720.0  16.0  328.0  10880.0  6724.0  223040.0   7398400.0\n",
       "\n",
       "[392 rows x 9 columns]"
      ]
     },
     "execution_count": 108,
     "metadata": {},
     "output_type": "execute_result"
    }
   ],
   "source": [
    "# Create our input features for quadratic regression\n",
    "\n",
    "quad_reg = PolynomialFeatures(degree=2, interaction_only=False)\n",
    "X_quad = quad_reg.fit_transform(X_mpg)\n",
    "X_quad = pd.DataFrame(X_quad, columns=quad_reg.get_feature_names())\n",
    "model = linear_model.LinearRegression()\n",
    "X_quad.apply(lambda col: col.reset_index(drop=True))\n",
    "X_quad = X_quad.drop(columns = [\"1\"])\n",
    "y_quad = y_mpg.reset_index(drop=True)\n",
    "X_quad"
   ]
  },
  {
   "cell_type": "code",
   "execution_count": 109,
   "metadata": {},
   "outputs": [],
   "source": [
    "# Creating train and test sets\n",
    "\n",
    "X_train, X_test, y_train, y_test = train_test_split(X_quad, y_mpg, test_size=0.20, random_state=1)"
   ]
  },
  {
   "cell_type": "code",
   "execution_count": 110,
   "metadata": {},
   "outputs": [],
   "source": [
    "# Testing and training our model\n",
    "\n",
    "model.fit(X_train, y_train)\n",
    "y_pred = model.predict(X_test)"
   ]
  },
  {
   "cell_type": "code",
   "execution_count": 111,
   "metadata": {},
   "outputs": [],
   "source": [
    "import matplotlib.pyplot as plt"
   ]
  },
  {
   "cell_type": "code",
   "execution_count": 112,
   "metadata": {},
   "outputs": [],
   "source": [
    "# Creating function to plot our results\n",
    "\n",
    "def showFit(x_values, y_test, y_pred):\n",
    "    plt.figure(figsize=(25, 10))\n",
    "    plt.scatter(x_values, y_test, label=\"y_test\", color=\"black\")\n",
    "    plt.scatter(x_values, y_pred, label=\"y_pred\", color=\"blue\")\n",
    "    plt.legend()\n",
    "    plt.show()"
   ]
  },
  {
   "cell_type": "code",
   "execution_count": 113,
   "metadata": {},
   "outputs": [],
   "source": [
    "from sklearn.metrics import r2_score, mean_squared_error\n",
    "import math"
   ]
  },
  {
   "cell_type": "code",
   "execution_count": 114,
   "metadata": {},
   "outputs": [],
   "source": [
    "# Creating X_values to plot\n",
    "\n",
    "x_values = range(0, len(X_test))"
   ]
  },
  {
   "cell_type": "code",
   "execution_count": 115,
   "metadata": {},
   "outputs": [
    {
     "data": {
      "image/png": "[encoded data removed]",
      "text/plain": [
       "<Figure size 1800x720 with 1 Axes>"
      ]
     },
     "metadata": {
      "needs_background": "light"
     },
     "output_type": "display_data"
    },
    {
     "name": "stdout",
     "output_type": "stream",
     "text": [
      "r2: 0.8600122678454759\n",
      "MSE: 9.70426810373459\n",
      "RMSE: 3.1151674278816204\n"
     ]
    }
   ],
   "source": [
    "# Create X values list and show fit!\n",
    "\n",
    "showFit(x_values, y_test, y_pred)\n",
    "\n",
    "r2 = r2_score(y_test, y_pred)\n",
    "\n",
    "print (\"r2:\", r2)\n",
    "\n",
    "mse = mean_squared_error(y_test, y_pred)\n",
    "rmse = math.sqrt(mse)\n",
    "\n",
    "print (\"MSE:\", mse)\n",
    "print (\"RMSE:\", rmse)"
   ]
  },
  {
   "cell_type": "markdown",
   "metadata": {},
   "source": [
    "## Cubic Regression"
   ]
  },
  {
   "cell_type": "markdown",
   "metadata": {},
   "source": [
    "Similar idea to quadratic except now we go all the way up to cubic terms\n",
    "\n",
    "example of data with cubic shape:\n",
    "\n",
    "![](cub.png)\n",
    "\n",
    "For 1 predictor:\n",
    "\n",
    "![](cub_eqn1.png)\n",
    "\n",
    "For 2 predictors:\n",
    "\n",
    "![](cub_eqn2.png)\n",
    "\n",
    "For cross terms:\n",
    "\n",
    "![](cub_eqn3.png)"
   ]
  },
  {
   "cell_type": "markdown",
   "metadata": {},
   "source": [
    "### Example"
   ]
  },
  {
   "cell_type": "code",
   "execution_count": 116,
   "metadata": {},
   "outputs": [
    {
     "name": "stderr",
     "output_type": "stream",
     "text": [
      "/Users/sdk/miniforge3/lib/python3.9/site-packages/sklearn/utils/deprecation.py:87: FutureWarning: Function get_feature_names is deprecated; get_feature_names is deprecated in 1.0 and will be removed in 1.2. Please use get_feature_names_out instead.\n",
      "  warnings.warn(msg, category=FutureWarning)\n"
     ]
    },
    {
     "data": {
      "text/html": [
       "<div>\n",
       "<style scoped>\n",
       "    .dataframe tbody tr th:only-of-type {\n",
       "        vertical-align: middle;\n",
       "    }\n",
       "\n",
       "    .dataframe tbody tr th {\n",
       "        vertical-align: top;\n",
       "    }\n",
       "\n",
       "    .dataframe thead th {\n",
       "        text-align: right;\n",
       "    }\n",
       "</style>\n",
       "<table border=\"1\" class=\"dataframe\">\n",
       "  <thead>\n",
       "    <tr style=\"text-align: right;\">\n",
       "      <th></th>\n",
       "      <th>x0</th>\n",
       "      <th>x1</th>\n",
       "      <th>x2</th>\n",
       "      <th>x0^2</th>\n",
       "      <th>x0 x1</th>\n",
       "      <th>x0 x2</th>\n",
       "      <th>x1^2</th>\n",
       "      <th>x1 x2</th>\n",
       "      <th>x2^2</th>\n",
       "      <th>x0^3</th>\n",
       "      <th>x0^2 x1</th>\n",
       "      <th>x0^2 x2</th>\n",
       "      <th>x0 x1^2</th>\n",
       "      <th>x0 x1 x2</th>\n",
       "      <th>x0 x2^2</th>\n",
       "      <th>x1^3</th>\n",
       "      <th>x1^2 x2</th>\n",
       "      <th>x1 x2^2</th>\n",
       "      <th>x2^3</th>\n",
       "    </tr>\n",
       "  </thead>\n",
       "  <tbody>\n",
       "    <tr>\n",
       "      <th>0</th>\n",
       "      <td>8.0</td>\n",
       "      <td>70.0</td>\n",
       "      <td>3504.0</td>\n",
       "      <td>64.0</td>\n",
       "      <td>560.0</td>\n",
       "      <td>28032.0</td>\n",
       "      <td>4900.0</td>\n",
       "      <td>245280.0</td>\n",
       "      <td>12278016.0</td>\n",
       "      <td>512.0</td>\n",
       "      <td>4480.0</td>\n",
       "      <td>224256.0</td>\n",
       "      <td>39200.0</td>\n",
       "      <td>1962240.0</td>\n",
       "      <td>98224128.0</td>\n",
       "      <td>343000.0</td>\n",
       "      <td>17169600.0</td>\n",
       "      <td>859461120.0</td>\n",
       "      <td>4.302217e+10</td>\n",
       "    </tr>\n",
       "    <tr>\n",
       "      <th>1</th>\n",
       "      <td>8.0</td>\n",
       "      <td>70.0</td>\n",
       "      <td>3693.0</td>\n",
       "      <td>64.0</td>\n",
       "      <td>560.0</td>\n",
       "      <td>29544.0</td>\n",
       "      <td>4900.0</td>\n",
       "      <td>258510.0</td>\n",
       "      <td>13638249.0</td>\n",
       "      <td>512.0</td>\n",
       "      <td>4480.0</td>\n",
       "      <td>236352.0</td>\n",
       "      <td>39200.0</td>\n",
       "      <td>2068080.0</td>\n",
       "      <td>109105992.0</td>\n",
       "      <td>343000.0</td>\n",
       "      <td>18095700.0</td>\n",
       "      <td>954677430.0</td>\n",
       "      <td>5.036605e+10</td>\n",
       "    </tr>\n",
       "    <tr>\n",
       "      <th>2</th>\n",
       "      <td>8.0</td>\n",
       "      <td>70.0</td>\n",
       "      <td>3436.0</td>\n",
       "      <td>64.0</td>\n",
       "      <td>560.0</td>\n",
       "      <td>27488.0</td>\n",
       "      <td>4900.0</td>\n",
       "      <td>240520.0</td>\n",
       "      <td>11806096.0</td>\n",
       "      <td>512.0</td>\n",
       "      <td>4480.0</td>\n",
       "      <td>219904.0</td>\n",
       "      <td>39200.0</td>\n",
       "      <td>1924160.0</td>\n",
       "      <td>94448768.0</td>\n",
       "      <td>343000.0</td>\n",
       "      <td>16836400.0</td>\n",
       "      <td>826426720.0</td>\n",
       "      <td>4.056575e+10</td>\n",
       "    </tr>\n",
       "    <tr>\n",
       "      <th>3</th>\n",
       "      <td>8.0</td>\n",
       "      <td>70.0</td>\n",
       "      <td>3433.0</td>\n",
       "      <td>64.0</td>\n",
       "      <td>560.0</td>\n",
       "      <td>27464.0</td>\n",
       "      <td>4900.0</td>\n",
       "      <td>240310.0</td>\n",
       "      <td>11785489.0</td>\n",
       "      <td>512.0</td>\n",
       "      <td>4480.0</td>\n",
       "      <td>219712.0</td>\n",
       "      <td>39200.0</td>\n",
       "      <td>1922480.0</td>\n",
       "      <td>94283912.0</td>\n",
       "      <td>343000.0</td>\n",
       "      <td>16821700.0</td>\n",
       "      <td>824984230.0</td>\n",
       "      <td>4.045958e+10</td>\n",
       "    </tr>\n",
       "    <tr>\n",
       "      <th>4</th>\n",
       "      <td>8.0</td>\n",
       "      <td>70.0</td>\n",
       "      <td>3449.0</td>\n",
       "      <td>64.0</td>\n",
       "      <td>560.0</td>\n",
       "      <td>27592.0</td>\n",
       "      <td>4900.0</td>\n",
       "      <td>241430.0</td>\n",
       "      <td>11895601.0</td>\n",
       "      <td>512.0</td>\n",
       "      <td>4480.0</td>\n",
       "      <td>220736.0</td>\n",
       "      <td>39200.0</td>\n",
       "      <td>1931440.0</td>\n",
       "      <td>95164808.0</td>\n",
       "      <td>343000.0</td>\n",
       "      <td>16900100.0</td>\n",
       "      <td>832692070.0</td>\n",
       "      <td>4.102793e+10</td>\n",
       "    </tr>\n",
       "    <tr>\n",
       "      <th>...</th>\n",
       "      <td>...</td>\n",
       "      <td>...</td>\n",
       "      <td>...</td>\n",
       "      <td>...</td>\n",
       "      <td>...</td>\n",
       "      <td>...</td>\n",
       "      <td>...</td>\n",
       "      <td>...</td>\n",
       "      <td>...</td>\n",
       "      <td>...</td>\n",
       "      <td>...</td>\n",
       "      <td>...</td>\n",
       "      <td>...</td>\n",
       "      <td>...</td>\n",
       "      <td>...</td>\n",
       "      <td>...</td>\n",
       "      <td>...</td>\n",
       "      <td>...</td>\n",
       "      <td>...</td>\n",
       "    </tr>\n",
       "    <tr>\n",
       "      <th>387</th>\n",
       "      <td>4.0</td>\n",
       "      <td>82.0</td>\n",
       "      <td>2790.0</td>\n",
       "      <td>16.0</td>\n",
       "      <td>328.0</td>\n",
       "      <td>11160.0</td>\n",
       "      <td>6724.0</td>\n",
       "      <td>228780.0</td>\n",
       "      <td>7784100.0</td>\n",
       "      <td>64.0</td>\n",
       "      <td>1312.0</td>\n",
       "      <td>44640.0</td>\n",
       "      <td>26896.0</td>\n",
       "      <td>915120.0</td>\n",
       "      <td>31136400.0</td>\n",
       "      <td>551368.0</td>\n",
       "      <td>18759960.0</td>\n",
       "      <td>638296200.0</td>\n",
       "      <td>2.171764e+10</td>\n",
       "    </tr>\n",
       "    <tr>\n",
       "      <th>388</th>\n",
       "      <td>4.0</td>\n",
       "      <td>82.0</td>\n",
       "      <td>2130.0</td>\n",
       "      <td>16.0</td>\n",
       "      <td>328.0</td>\n",
       "      <td>8520.0</td>\n",
       "      <td>6724.0</td>\n",
       "      <td>174660.0</td>\n",
       "      <td>4536900.0</td>\n",
       "      <td>64.0</td>\n",
       "      <td>1312.0</td>\n",
       "      <td>34080.0</td>\n",
       "      <td>26896.0</td>\n",
       "      <td>698640.0</td>\n",
       "      <td>18147600.0</td>\n",
       "      <td>551368.0</td>\n",
       "      <td>14322120.0</td>\n",
       "      <td>372025800.0</td>\n",
       "      <td>9.663597e+09</td>\n",
       "    </tr>\n",
       "    <tr>\n",
       "      <th>389</th>\n",
       "      <td>4.0</td>\n",
       "      <td>82.0</td>\n",
       "      <td>2295.0</td>\n",
       "      <td>16.0</td>\n",
       "      <td>328.0</td>\n",
       "      <td>9180.0</td>\n",
       "      <td>6724.0</td>\n",
       "      <td>188190.0</td>\n",
       "      <td>5267025.0</td>\n",
       "      <td>64.0</td>\n",
       "      <td>1312.0</td>\n",
       "      <td>36720.0</td>\n",
       "      <td>26896.0</td>\n",
       "      <td>752760.0</td>\n",
       "      <td>21068100.0</td>\n",
       "      <td>551368.0</td>\n",
       "      <td>15431580.0</td>\n",
       "      <td>431896050.0</td>\n",
       "      <td>1.208782e+10</td>\n",
       "    </tr>\n",
       "    <tr>\n",
       "      <th>390</th>\n",
       "      <td>4.0</td>\n",
       "      <td>82.0</td>\n",
       "      <td>2625.0</td>\n",
       "      <td>16.0</td>\n",
       "      <td>328.0</td>\n",
       "      <td>10500.0</td>\n",
       "      <td>6724.0</td>\n",
       "      <td>215250.0</td>\n",
       "      <td>6890625.0</td>\n",
       "      <td>64.0</td>\n",
       "      <td>1312.0</td>\n",
       "      <td>42000.0</td>\n",
       "      <td>26896.0</td>\n",
       "      <td>861000.0</td>\n",
       "      <td>27562500.0</td>\n",
       "      <td>551368.0</td>\n",
       "      <td>17650500.0</td>\n",
       "      <td>565031250.0</td>\n",
       "      <td>1.808789e+10</td>\n",
       "    </tr>\n",
       "    <tr>\n",
       "      <th>391</th>\n",
       "      <td>4.0</td>\n",
       "      <td>82.0</td>\n",
       "      <td>2720.0</td>\n",
       "      <td>16.0</td>\n",
       "      <td>328.0</td>\n",
       "      <td>10880.0</td>\n",
       "      <td>6724.0</td>\n",
       "      <td>223040.0</td>\n",
       "      <td>7398400.0</td>\n",
       "      <td>64.0</td>\n",
       "      <td>1312.0</td>\n",
       "      <td>43520.0</td>\n",
       "      <td>26896.0</td>\n",
       "      <td>892160.0</td>\n",
       "      <td>29593600.0</td>\n",
       "      <td>551368.0</td>\n",
       "      <td>18289280.0</td>\n",
       "      <td>606668800.0</td>\n",
       "      <td>2.012365e+10</td>\n",
       "    </tr>\n",
       "  </tbody>\n",
       "</table>\n",
       "<p>392 rows × 19 columns</p>\n",
       "</div>"
      ],
      "text/plain": [
       "      x0    x1      x2  x0^2  x0 x1    x0 x2    x1^2     x1 x2        x2^2  \\\n",
       "0    8.0  70.0  3504.0  64.0  560.0  28032.0  4900.0  245280.0  12278016.0   \n",
       "1    8.0  70.0  3693.0  64.0  560.0  29544.0  4900.0  258510.0  13638249.0   \n",
       "2    8.0  70.0  3436.0  64.0  560.0  27488.0  4900.0  240520.0  11806096.0   \n",
       "3    8.0  70.0  3433.0  64.0  560.0  27464.0  4900.0  240310.0  11785489.0   \n",
       "4    8.0  70.0  3449.0  64.0  560.0  27592.0  4900.0  241430.0  11895601.0   \n",
       "..   ...   ...     ...   ...    ...      ...     ...       ...         ...   \n",
       "387  4.0  82.0  2790.0  16.0  328.0  11160.0  6724.0  228780.0   7784100.0   \n",
       "388  4.0  82.0  2130.0  16.0  328.0   8520.0  6724.0  174660.0   4536900.0   \n",
       "389  4.0  82.0  2295.0  16.0  328.0   9180.0  6724.0  188190.0   5267025.0   \n",
       "390  4.0  82.0  2625.0  16.0  328.0  10500.0  6724.0  215250.0   6890625.0   \n",
       "391  4.0  82.0  2720.0  16.0  328.0  10880.0  6724.0  223040.0   7398400.0   \n",
       "\n",
       "      x0^3  x0^2 x1   x0^2 x2  x0 x1^2   x0 x1 x2      x0 x2^2      x1^3  \\\n",
       "0    512.0   4480.0  224256.0  39200.0  1962240.0   98224128.0  343000.0   \n",
       "1    512.0   4480.0  236352.0  39200.0  2068080.0  109105992.0  343000.0   \n",
       "2    512.0   4480.0  219904.0  39200.0  1924160.0   94448768.0  343000.0   \n",
       "3    512.0   4480.0  219712.0  39200.0  1922480.0   94283912.0  343000.0   \n",
       "4    512.0   4480.0  220736.0  39200.0  1931440.0   95164808.0  343000.0   \n",
       "..     ...      ...       ...      ...        ...          ...       ...   \n",
       "387   64.0   1312.0   44640.0  26896.0   915120.0   31136400.0  551368.0   \n",
       "388   64.0   1312.0   34080.0  26896.0   698640.0   18147600.0  551368.0   \n",
       "389   64.0   1312.0   36720.0  26896.0   752760.0   21068100.0  551368.0   \n",
       "390   64.0   1312.0   42000.0  26896.0   861000.0   27562500.0  551368.0   \n",
       "391   64.0   1312.0   43520.0  26896.0   892160.0   29593600.0  551368.0   \n",
       "\n",
       "        x1^2 x2      x1 x2^2          x2^3  \n",
       "0    17169600.0  859461120.0  4.302217e+10  \n",
       "1    18095700.0  954677430.0  5.036605e+10  \n",
       "2    16836400.0  826426720.0  4.056575e+10  \n",
       "3    16821700.0  824984230.0  4.045958e+10  \n",
       "4    16900100.0  832692070.0  4.102793e+10  \n",
       "..          ...          ...           ...  \n",
       "387  18759960.0  638296200.0  2.171764e+10  \n",
       "388  14322120.0  372025800.0  9.663597e+09  \n",
       "389  15431580.0  431896050.0  1.208782e+10  \n",
       "390  17650500.0  565031250.0  1.808789e+10  \n",
       "391  18289280.0  606668800.0  2.012365e+10  \n",
       "\n",
       "[392 rows x 19 columns]"
      ]
     },
     "execution_count": 116,
     "metadata": {},
     "output_type": "execute_result"
    }
   ],
   "source": [
    "\n",
    "cub_reg = PolynomialFeatures(degree=3, interaction_only=False)\n",
    "X_cub = cub_reg.fit_transform(X_mpg)\n",
    "X_cub = pd.DataFrame(X_cub, columns=cub_reg.get_feature_names())\n",
    "model = linear_model.LinearRegression()\n",
    "X_cub.apply(lambda col: col.reset_index(drop=True))\n",
    "X_cub = X_cub.drop(columns = [\"1\"])\n",
    "y_cub = y_mpg.reset_index(drop=True)\n",
    "X_cub"
   ]
  },
  {
   "cell_type": "code",
   "execution_count": 117,
   "metadata": {},
   "outputs": [],
   "source": [
    "# Creating train and test sets\n",
    "\n",
    "X_train, X_test, y_train, y_test = train_test_split(X_cub, y_mpg, test_size=0.20, random_state=1)"
   ]
  },
  {
   "cell_type": "code",
   "execution_count": 118,
   "metadata": {},
   "outputs": [],
   "source": [
    "# Testing and training our model\n",
    "\n",
    "model.fit(X_train, y_train)\n",
    "y_pred = model.predict(X_test)"
   ]
  },
  {
   "cell_type": "code",
   "execution_count": 119,
   "metadata": {},
   "outputs": [],
   "source": [
    "# Creating X_values to plot\n",
    "\n",
    "x_values = range(0, len(X_test))"
   ]
  },
  {
   "cell_type": "code",
   "execution_count": 120,
   "metadata": {},
   "outputs": [
    {
     "data": {
      "image/png": "[encoded data removed]",
      "text/plain": [
       "<Figure size 1800x720 with 1 Axes>"
      ]
     },
     "metadata": {
      "needs_background": "light"
     },
     "output_type": "display_data"
    },
    {
     "name": "stdout",
     "output_type": "stream",
     "text": [
      "r2: 0.8485951139654284\n",
      "MSE: 10.495731187880233\n",
      "RMSE: 3.2397115902314875\n"
     ]
    }
   ],
   "source": [
    "# Create X values list and show fit!\n",
    "\n",
    "showFit(x_values, y_test, y_pred)\n",
    "\n",
    "r2 = r2_score(y_test, y_pred)\n",
    "\n",
    "print (\"r2:\", r2)\n",
    "\n",
    "mse = mean_squared_error(y_test, y_pred)\n",
    "rmse = math.sqrt(mse)\n",
    "\n",
    "print (\"MSE:\", mse)\n",
    "print (\"RMSE:\", rmse)"
   ]
  },
  {
   "cell_type": "markdown",
   "metadata": {},
   "source": [
    "## Symbolic Regression"
   ]
  },
  {
   "cell_type": "markdown",
   "metadata": {},
   "source": [
    "### Main Idea: Use data to derive equations\n",
    "\n",
    "As per Wikipedia, Symbolic Regression (SR) is a type of regression analysis that searches the space of mathematical expressions to find the model that best fits a given dataset, both in terms of accuracy and simplicity. \n",
    "\n",
    "Essentially, we are using basic mathematical operators to build more complex polynomial equations than just quadratic or cubic\n",
    "\n",
    "Functions might include: addition, subraction, mutiplication, division, trigonometric functions, and exponentials.\n",
    "\n",
    "In a symbolic regression optimization, it is important to discard a large formula if a smaller one with the same accuracy is encountered. This is necessary to avoid obviously redundant solutions like f(x)=x+1–1+0+0+0, and also to not settle for a huge polynomial with 100% accuracy.\n",
    "\n",
    "Nice, because it provides and actaul governing equation for modeling. Thus, allowing more transparency than the popular black-box neural nets \n",
    "\n",
    "Example below with gplearn: https://gplearn.readthedocs.io/en/stable/index.html"
   ]
  },
  {
   "cell_type": "code",
   "execution_count": 121,
   "metadata": {},
   "outputs": [],
   "source": [
    "import numpy as np\n",
    "from gplearn.genetic import SymbolicRegressor\n",
    "import matplotlib.pyplot as plt"
   ]
  },
  {
   "cell_type": "markdown",
   "metadata": {},
   "source": [
    "### Create Sythetic Data"
   ]
  },
  {
   "cell_type": "markdown",
   "metadata": {},
   "source": [
    "Equation:\n",
    "\n",
    "![](eqn.png)"
   ]
  },
  {
   "cell_type": "code",
   "execution_count": 122,
   "metadata": {},
   "outputs": [
    {
     "name": "stderr",
     "output_type": "stream",
     "text": [
      "/var/folders/rz/09rsx9gn7_v672b_tqbwk_g80000gn/T/ipykernel_2512/2609589339.py:10: MatplotlibDeprecationWarning: Calling gca() with keyword arguments was deprecated in Matplotlib 3.4. Starting two minor releases later, gca() will take no keyword arguments. The gca() function should only be used to get the current axes, or if no axes exist, create new axes with default keyword arguments. To create a new axes with non-default arguments, use plt.axes() or plt.subplot().\n",
      "  ax = plt.figure().gca(projection='3d')\n"
     ]
    },
    {
     "data": {
      "image/png": "[encoded data removed]",
      "text/plain": [
       "<Figure size 432x288 with 1 Axes>"
      ]
     },
     "metadata": {
      "needs_background": "light"
     },
     "output_type": "display_data"
    }
   ],
   "source": [
    "#This example demonstrates using gplearn's SymbolicRegressor to fit a symbolic relationship.\n",
    "\n",
    "#Will start by creating some synthetic data that is based on the relationship y = Xo^2 - X1^2 + X1 - 1\n",
    "\n",
    "x0 = np.arange(-1, 1, 1/10.)\n",
    "x1 = np.arange(-1, 1, 1/10.)\n",
    "x0, x1 = np.meshgrid(x0, x1)\n",
    "y_truth = x0**2 - x1**2 + x1 - 1\n",
    "\n",
    "ax = plt.figure().gca(projection='3d')\n",
    "ax.set_xlim(-1, 1)\n",
    "ax.set_ylim(-1, 1)\n",
    "surf = ax.plot_surface(x0, x1, y_truth, rstride=1, cstride=1,\n",
    "                       color='red', alpha=0.5)\n",
    "plt.show()"
   ]
  },
  {
   "cell_type": "code",
   "execution_count": 123,
   "metadata": {},
   "outputs": [],
   "source": [
    "from sklearn.utils.random import check_random_state"
   ]
  },
  {
   "cell_type": "markdown",
   "metadata": {},
   "source": [
    "### Create Train and Test Set"
   ]
  },
  {
   "cell_type": "code",
   "execution_count": 124,
   "metadata": {},
   "outputs": [],
   "source": [
    "# Now we will create some random training and test data that lies on this surface too:\n",
    "\n",
    "rng = check_random_state(0)\n",
    "\n",
    "# Training samples\n",
    "X_train = rng.uniform(-1, 1, 100).reshape(50, 2)\n",
    "y_train = X_train[:, 0]**2 - X_train[:, 1]**2 + X_train[:, 1] - 1\n",
    "\n",
    "# Testing samples\n",
    "X_test = rng.uniform(-1, 1, 100).reshape(50, 2)\n",
    "y_test = X_test[:, 0]**2 - X_test[:, 1]**2 + X_test[:, 1] - 1"
   ]
  },
  {
   "cell_type": "markdown",
   "metadata": {},
   "source": [
    "### Creating the Symbolic Regressor"
   ]
  },
  {
   "cell_type": "code",
   "execution_count": 125,
   "metadata": {},
   "outputs": [
    {
     "name": "stdout",
     "output_type": "stream",
     "text": [
      "    |   Population Average    |             Best Individual              |\n",
      "---- ------------------------- ------------------------------------------ ----------\n",
      " Gen   Length          Fitness   Length          Fitness      OOB Fitness  Time Left\n",
      "   0    38.13          458.578        5         0.320666         0.556764     36.65s\n",
      "   1     9.97          1.70233        5         0.320202         0.624787     21.95s\n",
      "   2     7.72          1.94456       11         0.239537         0.533148     20.07s\n",
      "   3     5.41         0.990157        7         0.235676         0.719906     18.61s\n",
      "   4     4.66         0.894443       11         0.103946         0.103946     16.98s\n",
      "   5     5.41         0.940242       11         0.060802         0.060802     15.93s\n",
      "   6     6.78          1.09536       11      0.000781474      0.000781474     15.51s\n"
     ]
    },
    {
     "data": {
      "text/plain": [
       "SymbolicRegressor(max_samples=0.9, p_crossover=0.7, p_hoist_mutation=0.05,\n",
       "                  p_point_mutation=0.1, p_subtree_mutation=0.1,\n",
       "                  parsimony_coefficient=0.01, population_size=5000,\n",
       "                  random_state=0, stopping_criteria=0.01, verbose=1)"
      ]
     },
     "execution_count": 125,
     "metadata": {},
     "output_type": "execute_result"
    }
   ],
   "source": [
    "# Create model and specify parameters\n",
    "\n",
    "# Default is also set to: addition, subtraction, multiplication and division\n",
    "# This should work in our case\n",
    "\n",
    "est_gp = SymbolicRegressor(population_size=5000, #the number of programs in each generation\n",
    "                           generations=20, \n",
    "                           stopping_criteria=0.01, #The required metric value required in order to stop evolution early.\n",
    "                           p_crossover=0.7, \n",
    "                           p_subtree_mutation=0.1,\n",
    "                           p_hoist_mutation=0.05, \n",
    "                           p_point_mutation=0.1,\n",
    "                           max_samples=0.9, verbose=1,\n",
    "                           parsimony_coefficient=0.01, \n",
    "                           random_state=0)\n",
    "\n",
    "# Train our model\n",
    "\n",
    "est_gp.fit(X_train, y_train)"
   ]
  },
  {
   "cell_type": "markdown",
   "metadata": {},
   "source": [
    "### Generating an Equation from the Data"
   ]
  },
  {
   "cell_type": "code",
   "execution_count": 126,
   "metadata": {},
   "outputs": [
    {
     "name": "stdout",
     "output_type": "stream",
     "text": [
      "sub(add(-0.999, X1), mul(sub(X1, X0), add(X0, X1)))\n"
     ]
    }
   ],
   "source": [
    "# Printing Symbolic Result!!!\n",
    "\n",
    "print(est_gp._program)"
   ]
  },
  {
   "cell_type": "markdown",
   "metadata": {},
   "source": [
    "![](red.png)"
   ]
  }
 ],
 "metadata": {
  "interpreter": {
   "hash": "8338625309694086bca43e95af1b4ba2228479321112d6e6d2d9c087c2893b51"
  },
  "kernelspec": {
   "display_name": "Python 3.9.7 ('base')",
   "language": "python",
   "name": "python3"
  },
  "language_info": {
   "codemirror_mode": {
    "name": "ipython",
    "version": 3
   },
   "file_extension": ".py",
   "mimetype": "text/x-python",
   "name": "python",
   "nbconvert_exporter": "python",
   "pygments_lexer": "ipython3",
   "version": "3.9.7"
  },
  "orig_nbformat": 4
 },
 "nbformat": 4,
 "nbformat_minor": 2
}
